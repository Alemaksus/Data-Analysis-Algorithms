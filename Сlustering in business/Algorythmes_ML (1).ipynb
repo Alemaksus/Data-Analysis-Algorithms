{
 "cells": [
  {
   "cell_type": "code",
   "execution_count": 1,
   "metadata": {},
   "outputs": [],
   "source": [
    "import numpy as np \n",
    "import pandas as pd \n",
    "import matplotlib.pyplot as plt\n",
    "import seaborn as sns\n",
    "\n",
    "\"\"\"\n",
    "sklearn - осн-я библа ML\n",
    "\"\"\"\n",
    "from sklearn.datasets import make_regression, make_classification # генерируют выборки\n",
    "from sklearn.linear_model import LinearRegression # решаем задачу с помощью линейной регрессии\n",
    "from sklearn.linear_model import LogisticRegression # решаем задачу с помощью логистической регрессии\n",
    "from sklearn.metrics import classification_report, confusion_matrix # оценка результатов\n"
   ]
  },
  {
   "cell_type": "markdown",
   "metadata": {},
   "source": [
    "### Генерация выборки"
   ]
  },
  {
   "cell_type": "code",
   "execution_count": 4,
   "metadata": {},
   "outputs": [],
   "source": [
    "features, output, coef = make_regression(n_samples = 10000, #количество элементов\n",
    "                                         n_features = 5, #количество признаков\n",
    "                                         n_informative = 4, #количество информативных признаков\n",
    "                                         n_targets = 1, #количество целевых признаков\n",
    "                                         noise = 0, #шум\n",
    "                                         coef = True) #возвращает реальные коэфф-ты с пом-ю кот-х генерируется эта выборка\n",
    "\n",
    "X = pd.DataFrame(features, columns=['Фактор_1', 'Фактор_2', 'Фактор_3', 'Фактор_4', 'Фактор_5'])\n",
    "y = pd.DataFrame(output, columns=['Результат'])\n",
    "\n",
    "df = pd.concat([X, y], axis = 1)"
   ]
  },
  {
   "cell_type": "code",
   "execution_count": 5,
   "metadata": {},
   "outputs": [],
   "source": [
    "classification_data, classification_labels = make_classification(n_samples=500, #количество элементов\n",
    "                                                      n_features=5, #количество признаков\n",
    "                                                      n_informative=4, #количество информативных признаков\n",
    "                                                      n_classes=2, #количество классов\n",
    "                                                      n_redundant=0, #количество избыточных признаков\n",
    "                                                      random_state=23) #возможность генерировать одинаковые выборки\n"
   ]
  },
  {
   "cell_type": "markdown",
   "metadata": {},
   "source": [
    "### Небольшое повторение"
   ]
  },
  {
   "cell_type": "code",
   "execution_count": 9,
   "metadata": {},
   "outputs": [
    {
     "name": "stdout",
     "output_type": "stream",
     "text": [
      "break\n"
     ]
    }
   ],
   "source": [
    "for index, row in df.iterrows(): #iterrows позволяет пробегать построчно по нашему df\n",
    "    if row[\"Фактор_1\"] >= 3:\n",
    "        print(f\"На строке {index} значение Фактора 1 больше или равно 3\")\n",
    "        \n",
    "    elif row[\"Фактор_1\"] < -3:\n",
    "        print(\"break\")\n",
    "        break\n",
    "        \n",
    "    elif row[\"Фактор_1\"] != 1:\n",
    "        continue  \n",
    "        \n",
    "    else:\n",
    "        pass\n",
    "        print(\"pass\")"
   ]
  },
  {
   "cell_type": "markdown",
   "metadata": {},
   "source": [
    "### Предварительная обработка данных"
   ]
  },
  {
   "cell_type": "code",
   "execution_count": 10,
   "metadata": {},
   "outputs": [
    {
     "data": {
      "text/html": [
       "<div>\n",
       "<style scoped>\n",
       "    .dataframe tbody tr th:only-of-type {\n",
       "        vertical-align: middle;\n",
       "    }\n",
       "\n",
       "    .dataframe tbody tr th {\n",
       "        vertical-align: top;\n",
       "    }\n",
       "\n",
       "    .dataframe thead th {\n",
       "        text-align: right;\n",
       "    }\n",
       "</style>\n",
       "<table border=\"1\" class=\"dataframe\">\n",
       "  <thead>\n",
       "    <tr style=\"text-align: right;\">\n",
       "      <th></th>\n",
       "      <th>Фактор_1</th>\n",
       "      <th>Фактор_2</th>\n",
       "      <th>Фактор_3</th>\n",
       "      <th>Фактор_4</th>\n",
       "      <th>Фактор_5</th>\n",
       "      <th>Результат</th>\n",
       "    </tr>\n",
       "  </thead>\n",
       "  <tbody>\n",
       "    <tr>\n",
       "      <th>count</th>\n",
       "      <td>10000.000000</td>\n",
       "      <td>10000.000000</td>\n",
       "      <td>10000.000000</td>\n",
       "      <td>10000.000000</td>\n",
       "      <td>10000.000000</td>\n",
       "      <td>10000.000000</td>\n",
       "    </tr>\n",
       "    <tr>\n",
       "      <th>mean</th>\n",
       "      <td>-0.000360</td>\n",
       "      <td>-0.004033</td>\n",
       "      <td>0.006725</td>\n",
       "      <td>0.027105</td>\n",
       "      <td>-0.019460</td>\n",
       "      <td>1.333122</td>\n",
       "    </tr>\n",
       "    <tr>\n",
       "      <th>std</th>\n",
       "      <td>0.998944</td>\n",
       "      <td>0.998068</td>\n",
       "      <td>1.004176</td>\n",
       "      <td>0.993465</td>\n",
       "      <td>1.006630</td>\n",
       "      <td>103.019125</td>\n",
       "    </tr>\n",
       "    <tr>\n",
       "      <th>min</th>\n",
       "      <td>-3.803531</td>\n",
       "      <td>-3.375481</td>\n",
       "      <td>-3.545069</td>\n",
       "      <td>-3.673583</td>\n",
       "      <td>-3.736458</td>\n",
       "      <td>-404.182538</td>\n",
       "    </tr>\n",
       "    <tr>\n",
       "      <th>25%</th>\n",
       "      <td>-0.666180</td>\n",
       "      <td>-0.678639</td>\n",
       "      <td>-0.669039</td>\n",
       "      <td>-0.646660</td>\n",
       "      <td>-0.704187</td>\n",
       "      <td>-69.531998</td>\n",
       "    </tr>\n",
       "    <tr>\n",
       "      <th>50%</th>\n",
       "      <td>-0.000198</td>\n",
       "      <td>-0.008683</td>\n",
       "      <td>0.007897</td>\n",
       "      <td>0.024222</td>\n",
       "      <td>-0.045153</td>\n",
       "      <td>1.446024</td>\n",
       "    </tr>\n",
       "    <tr>\n",
       "      <th>75%</th>\n",
       "      <td>0.678636</td>\n",
       "      <td>0.679700</td>\n",
       "      <td>0.682675</td>\n",
       "      <td>0.701145</td>\n",
       "      <td>0.658001</td>\n",
       "      <td>71.274137</td>\n",
       "    </tr>\n",
       "    <tr>\n",
       "      <th>max</th>\n",
       "      <td>4.256041</td>\n",
       "      <td>3.754210</td>\n",
       "      <td>3.819485</td>\n",
       "      <td>3.768880</td>\n",
       "      <td>3.683285</td>\n",
       "      <td>411.407955</td>\n",
       "    </tr>\n",
       "  </tbody>\n",
       "</table>\n",
       "</div>"
      ],
      "text/plain": [
       "           Фактор_1      Фактор_2      Фактор_3      Фактор_4      Фактор_5  \\\n",
       "count  10000.000000  10000.000000  10000.000000  10000.000000  10000.000000   \n",
       "mean      -0.000360     -0.004033      0.006725      0.027105     -0.019460   \n",
       "std        0.998944      0.998068      1.004176      0.993465      1.006630   \n",
       "min       -3.803531     -3.375481     -3.545069     -3.673583     -3.736458   \n",
       "25%       -0.666180     -0.678639     -0.669039     -0.646660     -0.704187   \n",
       "50%       -0.000198     -0.008683      0.007897      0.024222     -0.045153   \n",
       "75%        0.678636      0.679700      0.682675      0.701145      0.658001   \n",
       "max        4.256041      3.754210      3.819485      3.768880      3.683285   \n",
       "\n",
       "          Результат  \n",
       "count  10000.000000  \n",
       "mean       1.333122  \n",
       "std      103.019125  \n",
       "min     -404.182538  \n",
       "25%      -69.531998  \n",
       "50%        1.446024  \n",
       "75%       71.274137  \n",
       "max      411.407955  "
      ]
     },
     "execution_count": 10,
     "metadata": {},
     "output_type": "execute_result"
    }
   ],
   "source": [
    "df.describe()"
   ]
  },
  {
   "cell_type": "code",
   "execution_count": 11,
   "metadata": {},
   "outputs": [
    {
     "name": "stdout",
     "output_type": "stream",
     "text": [
      "<class 'pandas.core.frame.DataFrame'>\n",
      "RangeIndex: 10000 entries, 0 to 9999\n",
      "Data columns (total 6 columns):\n",
      " #   Column     Non-Null Count  Dtype  \n",
      "---  ------     --------------  -----  \n",
      " 0   Фактор_1   10000 non-null  float64\n",
      " 1   Фактор_2   10000 non-null  float64\n",
      " 2   Фактор_3   10000 non-null  float64\n",
      " 3   Фактор_4   10000 non-null  float64\n",
      " 4   Фактор_5   10000 non-null  float64\n",
      " 5   Результат  10000 non-null  float64\n",
      "dtypes: float64(6)\n",
      "memory usage: 468.9 KB\n"
     ]
    }
   ],
   "source": [
    "df.info()"
   ]
  },
  {
   "cell_type": "code",
   "execution_count": 12,
   "metadata": {},
   "outputs": [],
   "source": [
    "df.iloc[1,2] = np.NaN #iloc позволяет обращаться к элементу по его индексу в виде номера строки (1) и номера столбца (2)\n",
    "df.iloc[1,3] = np.NaN #np.NaN - вставляет Nan в ячейку таблицы (!нельзя делать как то иначе)\n",
    "df.iloc[2,4] = np.NaN"
   ]
  },
  {
   "cell_type": "code",
   "execution_count": 13,
   "metadata": {},
   "outputs": [
    {
     "data": {
      "text/html": [
       "<div>\n",
       "<style scoped>\n",
       "    .dataframe tbody tr th:only-of-type {\n",
       "        vertical-align: middle;\n",
       "    }\n",
       "\n",
       "    .dataframe tbody tr th {\n",
       "        vertical-align: top;\n",
       "    }\n",
       "\n",
       "    .dataframe thead th {\n",
       "        text-align: right;\n",
       "    }\n",
       "</style>\n",
       "<table border=\"1\" class=\"dataframe\">\n",
       "  <thead>\n",
       "    <tr style=\"text-align: right;\">\n",
       "      <th></th>\n",
       "      <th>Фактор_1</th>\n",
       "      <th>Фактор_2</th>\n",
       "      <th>Фактор_3</th>\n",
       "      <th>Фактор_4</th>\n",
       "      <th>Фактор_5</th>\n",
       "      <th>Результат</th>\n",
       "    </tr>\n",
       "  </thead>\n",
       "  <tbody>\n",
       "    <tr>\n",
       "      <th>0</th>\n",
       "      <td>0.567996</td>\n",
       "      <td>1.052514</td>\n",
       "      <td>-2.029040</td>\n",
       "      <td>0.563623</td>\n",
       "      <td>-0.521846</td>\n",
       "      <td>55.193299</td>\n",
       "    </tr>\n",
       "    <tr>\n",
       "      <th>1</th>\n",
       "      <td>-1.394262</td>\n",
       "      <td>0.060285</td>\n",
       "      <td>NaN</td>\n",
       "      <td>NaN</td>\n",
       "      <td>0.385918</td>\n",
       "      <td>-104.632293</td>\n",
       "    </tr>\n",
       "    <tr>\n",
       "      <th>2</th>\n",
       "      <td>-0.814787</td>\n",
       "      <td>-0.587959</td>\n",
       "      <td>1.107219</td>\n",
       "      <td>0.404965</td>\n",
       "      <td>NaN</td>\n",
       "      <td>-28.819850</td>\n",
       "    </tr>\n",
       "    <tr>\n",
       "      <th>3</th>\n",
       "      <td>0.610861</td>\n",
       "      <td>1.563953</td>\n",
       "      <td>-0.500579</td>\n",
       "      <td>0.746917</td>\n",
       "      <td>2.771938</td>\n",
       "      <td>221.708891</td>\n",
       "    </tr>\n",
       "    <tr>\n",
       "      <th>4</th>\n",
       "      <td>-0.202610</td>\n",
       "      <td>1.740161</td>\n",
       "      <td>-0.434523</td>\n",
       "      <td>0.249686</td>\n",
       "      <td>0.590912</td>\n",
       "      <td>50.226505</td>\n",
       "    </tr>\n",
       "  </tbody>\n",
       "</table>\n",
       "</div>"
      ],
      "text/plain": [
       "   Фактор_1  Фактор_2  Фактор_3  Фактор_4  Фактор_5   Результат\n",
       "0  0.567996  1.052514 -2.029040  0.563623 -0.521846   55.193299\n",
       "1 -1.394262  0.060285       NaN       NaN  0.385918 -104.632293\n",
       "2 -0.814787 -0.587959  1.107219  0.404965       NaN  -28.819850\n",
       "3  0.610861  1.563953 -0.500579  0.746917  2.771938  221.708891\n",
       "4 -0.202610  1.740161 -0.434523  0.249686  0.590912   50.226505"
      ]
     },
     "execution_count": 13,
     "metadata": {},
     "output_type": "execute_result"
    }
   ],
   "source": [
    "df.head()"
   ]
  },
  {
   "cell_type": "code",
   "execution_count": 14,
   "metadata": {},
   "outputs": [],
   "source": [
    "# подготовка данных (замена NaN-ов):\n",
    "\n",
    "df[\"Фактор_5\"] = df[\"Фактор_5\"].fillna(0) #заполнение NaN-ов нулями\n",
    "df[\"Фактор_3\"] = df[\"Фактор_3\"].fillna(df[\"Фактор_3\"].mean()) #заполнение NaN-ов средними значениями\n",
    "df[\"Фактор_4\"] = df[\"Фактор_4\"].fillna(df[\"Фактор_4\"].median()) #заполнение NaN-ов медианным значением (медианой)"
   ]
  },
  {
   "cell_type": "code",
   "execution_count": 15,
   "metadata": {},
   "outputs": [
    {
     "data": {
      "text/html": [
       "<div>\n",
       "<style scoped>\n",
       "    .dataframe tbody tr th:only-of-type {\n",
       "        vertical-align: middle;\n",
       "    }\n",
       "\n",
       "    .dataframe tbody tr th {\n",
       "        vertical-align: top;\n",
       "    }\n",
       "\n",
       "    .dataframe thead th {\n",
       "        text-align: right;\n",
       "    }\n",
       "</style>\n",
       "<table border=\"1\" class=\"dataframe\">\n",
       "  <thead>\n",
       "    <tr style=\"text-align: right;\">\n",
       "      <th></th>\n",
       "      <th>Фактор_1</th>\n",
       "      <th>Фактор_2</th>\n",
       "      <th>Фактор_3</th>\n",
       "      <th>Фактор_4</th>\n",
       "      <th>Фактор_5</th>\n",
       "      <th>Результат</th>\n",
       "    </tr>\n",
       "  </thead>\n",
       "  <tbody>\n",
       "    <tr>\n",
       "      <th>0</th>\n",
       "      <td>0.567996</td>\n",
       "      <td>1.052514</td>\n",
       "      <td>-2.029040</td>\n",
       "      <td>0.563623</td>\n",
       "      <td>-0.521846</td>\n",
       "      <td>55.193299</td>\n",
       "    </tr>\n",
       "    <tr>\n",
       "      <th>1</th>\n",
       "      <td>-1.394262</td>\n",
       "      <td>0.060285</td>\n",
       "      <td>0.006780</td>\n",
       "      <td>0.024347</td>\n",
       "      <td>0.385918</td>\n",
       "      <td>-104.632293</td>\n",
       "    </tr>\n",
       "    <tr>\n",
       "      <th>2</th>\n",
       "      <td>-0.814787</td>\n",
       "      <td>-0.587959</td>\n",
       "      <td>1.107219</td>\n",
       "      <td>0.404965</td>\n",
       "      <td>0.000000</td>\n",
       "      <td>-28.819850</td>\n",
       "    </tr>\n",
       "    <tr>\n",
       "      <th>3</th>\n",
       "      <td>0.610861</td>\n",
       "      <td>1.563953</td>\n",
       "      <td>-0.500579</td>\n",
       "      <td>0.746917</td>\n",
       "      <td>2.771938</td>\n",
       "      <td>221.708891</td>\n",
       "    </tr>\n",
       "    <tr>\n",
       "      <th>4</th>\n",
       "      <td>-0.202610</td>\n",
       "      <td>1.740161</td>\n",
       "      <td>-0.434523</td>\n",
       "      <td>0.249686</td>\n",
       "      <td>0.590912</td>\n",
       "      <td>50.226505</td>\n",
       "    </tr>\n",
       "  </tbody>\n",
       "</table>\n",
       "</div>"
      ],
      "text/plain": [
       "   Фактор_1  Фактор_2  Фактор_3  Фактор_4  Фактор_5   Результат\n",
       "0  0.567996  1.052514 -2.029040  0.563623 -0.521846   55.193299\n",
       "1 -1.394262  0.060285  0.006780  0.024347  0.385918 -104.632293\n",
       "2 -0.814787 -0.587959  1.107219  0.404965  0.000000  -28.819850\n",
       "3  0.610861  1.563953 -0.500579  0.746917  2.771938  221.708891\n",
       "4 -0.202610  1.740161 -0.434523  0.249686  0.590912   50.226505"
      ]
     },
     "execution_count": 15,
     "metadata": {},
     "output_type": "execute_result"
    }
   ],
   "source": [
    "df.head()"
   ]
  },
  {
   "cell_type": "markdown",
   "metadata": {},
   "source": [
    "### Построение модели регрессии"
   ]
  },
  {
   "cell_type": "code",
   "execution_count": 16,
   "metadata": {},
   "outputs": [],
   "source": [
    "model = LinearRegression()"
   ]
  },
  {
   "cell_type": "code",
   "execution_count": 17,
   "metadata": {},
   "outputs": [
    {
     "data": {
      "text/plain": [
       "LinearRegression()"
      ]
     },
     "execution_count": 17,
     "metadata": {},
     "output_type": "execute_result"
    }
   ],
   "source": [
    "model.fit(X, y)"
   ]
  },
  {
   "cell_type": "code",
   "execution_count": 19,
   "metadata": {},
   "outputs": [
    {
     "data": {
      "text/plain": [
       "array([[ 4.30019649e+01,  6.96843473e+00, -3.04966526e-15,\n",
       "         8.26084871e+01,  4.43158151e+01]])"
      ]
     },
     "execution_count": 19,
     "metadata": {},
     "output_type": "execute_result"
    }
   ],
   "source": [
    "model.coef_"
   ]
  },
  {
   "cell_type": "code",
   "execution_count": 20,
   "metadata": {},
   "outputs": [
    {
     "name": "stdout",
     "output_type": "stream",
     "text": [
      "43.00196492960228\n",
      "6.968434731411637\n",
      "-3.0496652563290513e-15\n",
      "82.60848709047643\n",
      "44.31581509907465\n"
     ]
    }
   ],
   "source": [
    "print(model.coef_[0][0])\n",
    "print(model.coef_[0][1])\n",
    "print(model.coef_[0][2])\n",
    "print(model.coef_[0][3])\n",
    "print(model.coef_[0][4])"
   ]
  },
  {
   "cell_type": "code",
   "execution_count": 21,
   "metadata": {},
   "outputs": [
    {
     "data": {
      "text/plain": [
       "array([43.00196493,  6.96843473,  0.        , 82.60848709, 44.3158151 ])"
      ]
     },
     "execution_count": 21,
     "metadata": {},
     "output_type": "execute_result"
    }
   ],
   "source": [
    "coef"
   ]
  },
  {
   "cell_type": "code",
   "execution_count": 22,
   "metadata": {},
   "outputs": [
    {
     "data": {
      "text/plain": [
       "array([[176.89470185]])"
      ]
     },
     "execution_count": 22,
     "metadata": {},
     "output_type": "execute_result"
    }
   ],
   "source": [
    "model.predict([[1,1,1,1,1]])"
   ]
  },
  {
   "cell_type": "markdown",
   "metadata": {},
   "source": [
    "### Построение модели классификации"
   ]
  },
  {
   "cell_type": "code",
   "execution_count": 23,
   "metadata": {},
   "outputs": [],
   "source": [
    "model = LogisticRegression()"
   ]
  },
  {
   "cell_type": "code",
   "execution_count": 24,
   "metadata": {},
   "outputs": [
    {
     "data": {
      "text/plain": [
       "LogisticRegression()"
      ]
     },
     "execution_count": 24,
     "metadata": {},
     "output_type": "execute_result"
    }
   ],
   "source": [
    "model.fit(classification_data, classification_labels)"
   ]
  },
  {
   "cell_type": "code",
   "execution_count": 25,
   "metadata": {},
   "outputs": [
    {
     "data": {
      "text/plain": [
       "array([[-1.27257875,  0.14133928,  1.09158098,  1.07917765,  0.41005178]])"
      ]
     },
     "execution_count": 25,
     "metadata": {},
     "output_type": "execute_result"
    }
   ],
   "source": [
    "model.coef_"
   ]
  },
  {
   "cell_type": "code",
   "execution_count": 26,
   "metadata": {},
   "outputs": [
    {
     "name": "stdout",
     "output_type": "stream",
     "text": [
      "-1.2725787495313632\n",
      "0.14133927753322814\n",
      "1.0915809800274316\n",
      "1.0791776477235466\n",
      "0.41005178447339485\n"
     ]
    }
   ],
   "source": [
    "print(model.coef_[0][0])\n",
    "print(model.coef_[0][1])\n",
    "print(model.coef_[0][2])\n",
    "print(model.coef_[0][3])\n",
    "print(model.coef_[0][4])"
   ]
  },
  {
   "cell_type": "code",
   "execution_count": 27,
   "metadata": {},
   "outputs": [
    {
     "data": {
      "text/plain": [
       "array([[-3.67566532,  1.43280426, -3.2429289 ,  0.03384957,  0.21445597],\n",
       "       [-1.88805125,  0.34579464, -1.12421301, -2.02034321, -1.27646763],\n",
       "       [-1.1171786 ,  1.03383845, -2.72285658,  3.12372892, -1.25783655],\n",
       "       ...,\n",
       "       [-0.22826457, -0.33117903,  0.5864643 ,  0.82759742, -1.53438193],\n",
       "       [-2.73572828, -0.11190976,  1.45247929, -2.82114298,  0.20448847],\n",
       "       [-0.09801648, -1.52171115,  1.64739356,  0.14739146,  1.70819623]])"
      ]
     },
     "execution_count": 27,
     "metadata": {},
     "output_type": "execute_result"
    }
   ],
   "source": [
    "classification_data"
   ]
  },
  {
   "cell_type": "code",
   "execution_count": 28,
   "metadata": {},
   "outputs": [
    {
     "data": {
      "text/plain": [
       "array([1, 0, 1, 1, 0, 1, 0, 0, 0, 1, 1, 1, 1, 1, 0, 1, 0, 0, 1, 1, 0, 1,\n",
       "       0, 1, 1, 1, 1, 1, 0, 0, 1, 1, 1, 0, 1, 0, 0, 0, 1, 1, 0, 1, 0, 1,\n",
       "       1, 1, 1, 0, 1, 0, 1, 0, 0, 0, 0, 1, 0, 0, 1, 1, 1, 0, 0, 0, 1, 0,\n",
       "       0, 1, 1, 1, 0, 0, 0, 1, 0, 1, 1, 1, 0, 0, 1, 0, 0, 1, 0, 1, 0, 0,\n",
       "       0, 1, 1, 1, 0, 0, 1, 1, 1, 0, 0, 0, 1, 1, 1, 0, 0, 1, 1, 1, 0, 1,\n",
       "       1, 0, 1, 0, 0, 0, 1, 0, 1, 0, 1, 1, 1, 1, 0, 1, 0, 0, 1, 1, 1, 0,\n",
       "       0, 0, 0, 1, 1, 1, 1, 0, 1, 1, 1, 1, 1, 0, 1, 0, 1, 1, 1, 0, 0, 1,\n",
       "       1, 0, 1, 1, 0, 1, 0, 1, 0, 1, 0, 0, 0, 1, 1, 0, 0, 1, 0, 0, 0, 1,\n",
       "       0, 0, 1, 1, 1, 0, 0, 0, 0, 0, 0, 0, 1, 0, 0, 0, 0, 0, 0, 0, 0, 1,\n",
       "       1, 0, 0, 0, 1, 1, 1, 1, 0, 0, 0, 1, 1, 1, 1, 1, 1, 0, 0, 1, 1, 1,\n",
       "       0, 0, 0, 1, 0, 0, 1, 0, 1, 1, 0, 0, 0, 1, 0, 1, 1, 0, 0, 0, 1, 1,\n",
       "       0, 0, 1, 0, 0, 0, 0, 1, 0, 0, 1, 1, 1, 0, 1, 1, 1, 1, 0, 0, 1, 0,\n",
       "       0, 1, 1, 0, 0, 0, 0, 1, 0, 0, 1, 0, 0, 0, 0, 1, 1, 0, 0, 1, 1, 1,\n",
       "       0, 1, 1, 1, 0, 0, 0, 1, 1, 1, 1, 0, 0, 1, 0, 0, 1, 0, 1, 0, 0, 0,\n",
       "       1, 0, 1, 0, 1, 0, 1, 0, 1, 1, 1, 0, 1, 0, 0, 0, 0, 0, 1, 1, 0, 1,\n",
       "       1, 0, 1, 0, 0, 0, 0, 0, 1, 1, 1, 1, 1, 1, 1, 1, 1, 1, 1, 0, 0, 1,\n",
       "       1, 1, 0, 1, 0, 0, 0, 1, 1, 0, 1, 1, 1, 1, 0, 0, 1, 1, 0, 0, 1, 1,\n",
       "       0, 0, 0, 1, 0, 0, 0, 0, 1, 0, 1, 0, 0, 0, 1, 1, 0, 1, 1, 1, 1, 0,\n",
       "       0, 1, 0, 1, 1, 0, 1, 1, 0, 1, 1, 1, 0, 1, 1, 1, 1, 1, 0, 1, 0, 1,\n",
       "       0, 0, 0, 0, 0, 0, 1, 0, 1, 0, 1, 1, 0, 1, 1, 0, 0, 1, 0, 1, 1, 0,\n",
       "       1, 1, 0, 0, 1, 0, 0, 0, 1, 1, 0, 0, 0, 0, 0, 1, 0, 0, 0, 0, 1, 1,\n",
       "       1, 0, 1, 1, 0, 0, 1, 1, 0, 1, 1, 1, 1, 0, 0, 0, 0, 1, 1, 0, 1, 1,\n",
       "       1, 1, 0, 0, 0, 0, 0, 0, 0, 1, 0, 1, 1, 1, 1, 1])"
      ]
     },
     "execution_count": 28,
     "metadata": {},
     "output_type": "execute_result"
    }
   ],
   "source": [
    "classification_labels"
   ]
  },
  {
   "cell_type": "code",
   "execution_count": 29,
   "metadata": {},
   "outputs": [
    {
     "data": {
      "text/plain": [
       "array([1])"
      ]
     },
     "execution_count": 29,
     "metadata": {},
     "output_type": "execute_result"
    }
   ],
   "source": [
    "model.predict([[1,1,1,1,1]])"
   ]
  },
  {
   "cell_type": "markdown",
   "metadata": {},
   "source": [
    "### Самостоятельный кейс №1"
   ]
  },
  {
   "cell_type": "markdown",
   "metadata": {},
   "source": [
    "- Сгенерируйте выборку для регрессии, содержащую 15000 элементов, 5 информативных признаков, 4 неинформативных признака.\n",
    "- Добавьте шум равный 1.\n",
    "- Постройте модель линейной регрессии и оцените значение целевого признака для примера, содержащего только 0.\n",
    "- Подумайте, на какие показатели мог повлиять добавляемый шум."
   ]
  }
 ],
 "metadata": {
  "kernelspec": {
   "display_name": "Python 3",
   "language": "python",
   "name": "python3"
  },
  "language_info": {
   "codemirror_mode": {
    "name": "ipython",
    "version": 3
   },
   "file_extension": ".py",
   "mimetype": "text/x-python",
   "name": "python",
   "nbconvert_exporter": "python",
   "pygments_lexer": "ipython3",
   "version": "3.8.5"
  }
 },
 "nbformat": 4,
 "nbformat_minor": 2
}
