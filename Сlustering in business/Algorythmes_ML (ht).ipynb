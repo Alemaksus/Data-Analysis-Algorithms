{
 "cells": [
  {
   "cell_type": "code",
   "execution_count": 3,
   "metadata": {},
   "outputs": [],
   "source": [
    "import numpy as np \n",
    "\n",
    "from sklearn.datasets import make_regression\n",
    "from sklearn.linear_model import LinearRegression"
   ]
  },
  {
   "cell_type": "code",
   "execution_count": 4,
   "metadata": {},
   "outputs": [],
   "source": [
    "features, output, coef = make_regression(n_samples = 15000, \n",
    "                                         n_features = 9, \n",
    "                                         n_informative = 4, \n",
    "                                         n_targets = 1, \n",
    "                                         noise = 1, \n",
    "                                         coef = True)"
   ]
  },
  {
   "cell_type": "code",
   "execution_count": 5,
   "metadata": {},
   "outputs": [],
   "source": [
    "model = LinearRegression()"
   ]
  },
  {
   "cell_type": "code",
   "execution_count": 6,
   "metadata": {},
   "outputs": [
    {
     "data": {
      "text/plain": [
       "LinearRegression()"
      ]
     },
     "execution_count": 6,
     "metadata": {},
     "output_type": "execute_result"
    }
   ],
   "source": [
    "model.fit(features, output)"
   ]
  },
  {
   "cell_type": "code",
   "execution_count": 7,
   "metadata": {},
   "outputs": [
    {
     "name": "stdout",
     "output_type": "stream",
     "text": [
      "-0.0025754905247544068\n",
      "53.76664732236793\n",
      "0.011718234995141302\n",
      "78.3782133247428\n",
      "0.002406607719801915\n",
      "0.0021839575835943047\n",
      "0.0060278415558978286\n",
      "81.22218679860504\n",
      "16.27761857015508\n"
     ]
    }
   ],
   "source": [
    "print(model.coef_[0])\n",
    "print(model.coef_[1])\n",
    "print(model.coef_[2])\n",
    "print(model.coef_[3])\n",
    "print(model.coef_[4])\n",
    "print(model.coef_[5])\n",
    "print(model.coef_[6])\n",
    "print(model.coef_[7])\n",
    "print(model.coef_[8])\n"
   ]
  },
  {
   "cell_type": "code",
   "execution_count": 8,
   "metadata": {},
   "outputs": [
    {
     "data": {
      "text/plain": [
       "array([0.01117391])"
      ]
     },
     "execution_count": 8,
     "metadata": {},
     "output_type": "execute_result"
    }
   ],
   "source": [
    "model.predict([[0, 0, 0, 0, 0, 0, 0, 0, 0]])"
   ]
  }
 ],
 "metadata": {
  "kernelspec": {
   "display_name": "Python 3",
   "language": "python",
   "name": "python3"
  },
  "language_info": {
   "codemirror_mode": {
    "name": "ipython",
    "version": 3
   },
   "file_extension": ".py",
   "mimetype": "text/x-python",
   "name": "python",
   "nbconvert_exporter": "python",
   "pygments_lexer": "ipython3",
   "version": "3.8.5"
  }
 },
 "nbformat": 4,
 "nbformat_minor": 4
}
